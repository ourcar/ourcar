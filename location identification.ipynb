{
  "nbformat": 4,
  "nbformat_minor": 0,
  "metadata": {
    "colab": {
      "name": "textspeech.ipynb",
      "provenance": []
    },
    "kernelspec": {
      "name": "python3",
      "display_name": "Python 3"
    }
  },
  "cells": [
    {
      "cell_type": "code",
      "metadata": {
        "colab": {
          "base_uri": "https://localhost:8080/"
        },
        "id": "QWnxffo0Uqr6",
        "outputId": "5ac5d86a-ee92-473b-f226-6b2a67b5980c"
      },
      "source": [
        "\r\n",
        "!pip install SpeechRecognition"
      ],
      "execution_count": 105,
      "outputs": [
        {
          "output_type": "stream",
          "text": [
            "Collecting SpeechRecognition\n",
            "\u001b[?25l  Downloading https://files.pythonhosted.org/packages/26/e1/7f5678cd94ec1234269d23756dbdaa4c8cfaed973412f88ae8adf7893a50/SpeechRecognition-3.8.1-py2.py3-none-any.whl (32.8MB)\n",
            "\u001b[K     |████████████████████████████████| 32.8MB 135kB/s \n",
            "\u001b[?25hInstalling collected packages: SpeechRecognition\n",
            "Successfully installed SpeechRecognition-3.8.1\n"
          ],
          "name": "stdout"
        }
      ]
    },
    {
      "cell_type": "code",
      "metadata": {
        "id": "Q8S6JaWA1CPs"
      },
      "source": [
        "import numpy as np\r\n",
        "import pandas as pd\r\n",
        "import matplotlib.pyplot as plt\r\n",
        "import seaborn as sns\r\n",
        "import io"
      ],
      "execution_count": 106,
      "outputs": []
    },
    {
      "cell_type": "code",
      "metadata": {
        "colab": {
          "base_uri": "https://localhost:8080/"
        },
        "id": "gl-mfJCRSt6f",
        "outputId": "335d8a26-54d2-4af1-9768-e30a98cc46c6"
      },
      "source": [
        "import speech_recognition as sr\r\n",
        "\r\n",
        "# Initialize recognizer class (for recognizing the speech)\r\n",
        "r = sr.Recognizer()\r\n",
        "\r\n",
        "# Reading Audio file as source\r\n",
        "# listening the audio file and store in audio_text variable\r\n",
        "\r\n",
        "with sr.AudioFile('/content/location.wav') as source:\r\n",
        "    \r\n",
        "    audio_text = r.listen(source)\r\n",
        "    \r\n",
        "# recoginize_() method will throw a request error if the API is unreachable, hence using exception handling\r\n",
        "    try:\r\n",
        "        \r\n",
        "        # using google speech recognition\r\n",
        "        text = r.recognize_google(audio_text)\r\n",
        "        print('Converting audio transcripts into text ...')\r\n",
        "        print(text)\r\n",
        "     \r\n",
        "    except:\r\n",
        "         print('Sorry.. run again...')"
      ],
      "execution_count": 109,
      "outputs": [
        {
          "output_type": "stream",
          "text": [
            "Converting audio transcripts into text ...\n",
            "hi I mean Hozier give me near my location\n"
          ],
          "name": "stdout"
        }
      ]
    },
    {
      "cell_type": "code",
      "metadata": {
        "colab": {
          "base_uri": "https://localhost:8080/"
        },
        "id": "L28rYqSlXOlC",
        "outputId": "9784d989-05e0-4645-d0c7-43714c90e029"
      },
      "source": [
        "!pip install pipwin"
      ],
      "execution_count": 113,
      "outputs": [
        {
          "output_type": "stream",
          "text": [
            "Collecting pipwin\n",
            "  Downloading https://files.pythonhosted.org/packages/08/0f/a7df1770d2dcf99898aee562d6ce866e5dc78a5ccbf4ff25231ece4c99e8/pipwin-0.5.0-py2.py3-none-any.whl\n",
            "Collecting pySmartDL>=1.3.1; python_version >= \"3.4\"\n",
            "  Downloading https://files.pythonhosted.org/packages/ac/6a/582286ea74c54363cba30413214767904f0a239e12253c3817feaf78453f/pySmartDL-1.3.4-py3-none-any.whl\n",
            "Requirement already satisfied: packaging in /usr/local/lib/python3.6/dist-packages (from pipwin) (20.8)\n",
            "Collecting beautifulsoup4>=4.9.0\n",
            "\u001b[?25l  Downloading https://files.pythonhosted.org/packages/d1/41/e6495bd7d3781cee623ce23ea6ac73282a373088fcd0ddc809a047b18eae/beautifulsoup4-4.9.3-py3-none-any.whl (115kB)\n",
            "\u001b[K     |████████████████████████████████| 122kB 18.7MB/s \n",
            "\u001b[?25hRequirement already satisfied: docopt in /usr/local/lib/python3.6/dist-packages (from pipwin) (0.6.2)\n",
            "Collecting js2py\n",
            "\u001b[?25l  Downloading https://files.pythonhosted.org/packages/f4/6a/0385641ad1b52aae5c63820277a10e500c19e40fc4df5287f161aa287020/Js2Py-0.70-py3-none-any.whl (605kB)\n",
            "\u001b[K     |████████████████████████████████| 614kB 26.8MB/s \n",
            "\u001b[?25hCollecting pyprind\n",
            "  Downloading https://files.pythonhosted.org/packages/1e/30/e76fb0c45da8aef49ea8d2a90d4e7a6877b45894c25f12fb961f009a891e/PyPrind-2.11.2-py3-none-any.whl\n",
            "Requirement already satisfied: requests in /usr/local/lib/python3.6/dist-packages (from pipwin) (2.23.0)\n",
            "Requirement already satisfied: six in /usr/local/lib/python3.6/dist-packages (from pipwin) (1.15.0)\n",
            "Requirement already satisfied: pyparsing>=2.0.2 in /usr/local/lib/python3.6/dist-packages (from packaging->pipwin) (2.4.7)\n",
            "Collecting soupsieve>1.2; python_version >= \"3.0\"\n",
            "  Downloading https://files.pythonhosted.org/packages/02/fb/1c65691a9aeb7bd6ac2aa505b84cb8b49ac29c976411c6ab3659425e045f/soupsieve-2.1-py3-none-any.whl\n",
            "Requirement already satisfied: tzlocal>=1.2 in /usr/local/lib/python3.6/dist-packages (from js2py->pipwin) (1.5.1)\n",
            "Collecting pyjsparser>=2.5.1\n",
            "  Downloading https://files.pythonhosted.org/packages/48/ef/c72abcfa2c6accd03e7c89c400790fc3d908c5804d50a7c4e9ceabd74d23/pyjsparser-2.7.1.tar.gz\n",
            "Requirement already satisfied: certifi>=2017.4.17 in /usr/local/lib/python3.6/dist-packages (from requests->pipwin) (2020.12.5)\n",
            "Requirement already satisfied: chardet<4,>=3.0.2 in /usr/local/lib/python3.6/dist-packages (from requests->pipwin) (3.0.4)\n",
            "Requirement already satisfied: idna<3,>=2.5 in /usr/local/lib/python3.6/dist-packages (from requests->pipwin) (2.10)\n",
            "Requirement already satisfied: urllib3!=1.25.0,!=1.25.1,<1.26,>=1.21.1 in /usr/local/lib/python3.6/dist-packages (from requests->pipwin) (1.24.3)\n",
            "Requirement already satisfied: pytz in /usr/local/lib/python3.6/dist-packages (from tzlocal>=1.2->js2py->pipwin) (2018.9)\n",
            "Building wheels for collected packages: pyjsparser\n",
            "  Building wheel for pyjsparser (setup.py) ... \u001b[?25l\u001b[?25hdone\n",
            "  Created wheel for pyjsparser: filename=pyjsparser-2.7.1-cp36-none-any.whl size=25999 sha256=a9900b64e87bb25cb0b00f65119bd31f51cc44d5c5d0dfa5b62c46c00f9e63e8\n",
            "  Stored in directory: /root/.cache/pip/wheels/a2/73/e6/3e433f3fd78257c3f971baf8cc9001cc0c4797268c61751e89\n",
            "Successfully built pyjsparser\n",
            "Installing collected packages: pySmartDL, soupsieve, beautifulsoup4, pyjsparser, js2py, pyprind, pipwin\n",
            "  Found existing installation: beautifulsoup4 4.6.3\n",
            "    Uninstalling beautifulsoup4-4.6.3:\n",
            "      Successfully uninstalled beautifulsoup4-4.6.3\n",
            "Successfully installed beautifulsoup4-4.9.3 js2py-0.70 pipwin-0.5.0 pySmartDL-1.3.4 pyjsparser-2.7.1 pyprind-2.11.2 soupsieve-2.1\n"
          ],
          "name": "stdout"
        }
      ]
    },
    {
      "cell_type": "code",
      "metadata": {
        "colab": {
          "base_uri": "https://localhost:8080/"
        },
        "id": "EcdMGK0cXomX",
        "outputId": "27bb6dad-0665-4c75-d9d2-93942a32179e"
      },
      "source": [
        "!pipwin install /content/PyAudio-0.2.11-cp36-cp36m-win_amd64.whl"
      ],
      "execution_count": 127,
      "outputs": [
        {
          "output_type": "stream",
          "text": [
            "/usr/local/lib/python3.6/dist-packages/pipwin/command.py:65: UserWarning: Found a non Windows system. Package installation might not work.\n",
            "  warn(\"Found a non Windows system. Package installation might not work.\")\n",
            "Traceback (most recent call last):\n",
            "  File \"/usr/local/lib/python3.6/dist-packages/packaging/requirements.py\", line 104, in __init__\n",
            "    req = REQUIREMENT.parseString(requirement_string)\n",
            "  File \"/usr/local/lib/python3.6/dist-packages/pyparsing.py\", line 1955, in parseString\n",
            "    raise exc\n",
            "  File \"/usr/local/lib/python3.6/dist-packages/pyparsing.py\", line 3250, in parseImpl\n",
            "    raise ParseException(instring, loc, self.errmsg, self)\n",
            "pyparsing.ParseException: Expected W:(abcd...), found '/'  (at char 0), (line:1, col:1)\n",
            "\n",
            "During handling of the above exception, another exception occurred:\n",
            "\n",
            "Traceback (most recent call last):\n",
            "  File \"/usr/local/bin/pipwin\", line 8, in <module>\n",
            "    sys.exit(main())\n",
            "  File \"/usr/local/lib/python3.6/dist-packages/pipwin/command.py\", line 86, in main\n",
            "    for package in _package_names(args):\n",
            "  File \"/usr/local/lib/python3.6/dist-packages/pipwin/command.py\", line 42, in _package_names\n",
            "    yield Requirement(args[\"<package>\"].lower())\n",
            "  File \"/usr/local/lib/python3.6/dist-packages/packaging/requirements.py\", line 108, in __init__\n",
            "    requirement_string[e.loc : e.loc + 8], e.msg\n",
            "packaging.requirements.InvalidRequirement: Parse error at \"'/content'\": Expected W:(abcd...)\n"
          ],
          "name": "stdout"
        }
      ]
    },
    {
      "cell_type": "code",
      "metadata": {
        "colab": {
          "base_uri": "https://localhost:8080/",
          "height": 425
        },
        "id": "zUn-GiBoUpFV",
        "outputId": "c4f324b0-d2ae-4000-8848-8e0c55a27155"
      },
      "source": [
        "import speech_recognition as sr\r\n",
        "\r\n",
        "# Initialize recognizer class (for recognizing the speech)\r\n",
        "\r\n",
        "r = sr.Recognizer()\r\n",
        "\r\n",
        "# Reading Microphone as source\r\n",
        "# listening the speech and store in audio_text variable\r\n",
        "\r\n",
        "with sr.Microphone() as source:\r\n",
        "    print(\"Talk\")\r\n",
        "    audio_text = r.listen(source)\r\n",
        "    print(\"Time over, thanks\")\r\n",
        "# recoginize_() method will throw a request error if the API is unreachable, hence using exception handling\r\n",
        "    \r\n",
        "    try:\r\n",
        "        # using google speech recognition\r\n",
        "        print(\"Text: \"+r.recognize_google(audio_text))\r\n",
        "    except:\r\n",
        "         print(\"Sorry, I did not get that\")"
      ],
      "execution_count": 110,
      "outputs": [
        {
          "output_type": "error",
          "ename": "AttributeError",
          "evalue": "ignored",
          "traceback": [
            "\u001b[0;31m---------------------------------------------------------------------------\u001b[0m",
            "\u001b[0;31mModuleNotFoundError\u001b[0m                       Traceback (most recent call last)",
            "\u001b[0;32m/usr/local/lib/python3.6/dist-packages/speech_recognition/__init__.py\u001b[0m in \u001b[0;36mget_pyaudio\u001b[0;34m()\u001b[0m\n\u001b[1;32m    107\u001b[0m         \u001b[0;32mtry\u001b[0m\u001b[0;34m:\u001b[0m\u001b[0;34m\u001b[0m\u001b[0;34m\u001b[0m\u001b[0m\n\u001b[0;32m--> 108\u001b[0;31m             \u001b[0;32mimport\u001b[0m \u001b[0mpyaudio\u001b[0m\u001b[0;34m\u001b[0m\u001b[0;34m\u001b[0m\u001b[0m\n\u001b[0m\u001b[1;32m    109\u001b[0m         \u001b[0;32mexcept\u001b[0m \u001b[0mImportError\u001b[0m\u001b[0;34m:\u001b[0m\u001b[0;34m\u001b[0m\u001b[0;34m\u001b[0m\u001b[0m\n",
            "\u001b[0;31mModuleNotFoundError\u001b[0m: No module named 'pyaudio'",
            "\nDuring handling of the above exception, another exception occurred:\n",
            "\u001b[0;31mAttributeError\u001b[0m                            Traceback (most recent call last)",
            "\u001b[0;32m<ipython-input-110-d72f9005f507>\u001b[0m in \u001b[0;36m<module>\u001b[0;34m()\u001b[0m\n\u001b[1;32m      8\u001b[0m \u001b[0;31m# listening the speech and store in audio_text variable\u001b[0m\u001b[0;34m\u001b[0m\u001b[0;34m\u001b[0m\u001b[0;34m\u001b[0m\u001b[0m\n\u001b[1;32m      9\u001b[0m \u001b[0;34m\u001b[0m\u001b[0m\n\u001b[0;32m---> 10\u001b[0;31m \u001b[0;32mwith\u001b[0m \u001b[0msr\u001b[0m\u001b[0;34m.\u001b[0m\u001b[0mMicrophone\u001b[0m\u001b[0;34m(\u001b[0m\u001b[0;34m)\u001b[0m \u001b[0;32mas\u001b[0m \u001b[0msource\u001b[0m\u001b[0;34m:\u001b[0m\u001b[0;34m\u001b[0m\u001b[0;34m\u001b[0m\u001b[0m\n\u001b[0m\u001b[1;32m     11\u001b[0m     \u001b[0mprint\u001b[0m\u001b[0;34m(\u001b[0m\u001b[0;34m\"Talk\"\u001b[0m\u001b[0;34m)\u001b[0m\u001b[0;34m\u001b[0m\u001b[0;34m\u001b[0m\u001b[0m\n\u001b[1;32m     12\u001b[0m     \u001b[0maudio_text\u001b[0m \u001b[0;34m=\u001b[0m \u001b[0mr\u001b[0m\u001b[0;34m.\u001b[0m\u001b[0mlisten\u001b[0m\u001b[0;34m(\u001b[0m\u001b[0msource\u001b[0m\u001b[0;34m)\u001b[0m\u001b[0;34m\u001b[0m\u001b[0;34m\u001b[0m\u001b[0m\n",
            "\u001b[0;32m/usr/local/lib/python3.6/dist-packages/speech_recognition/__init__.py\u001b[0m in \u001b[0;36m__init__\u001b[0;34m(self, device_index, sample_rate, chunk_size)\u001b[0m\n\u001b[1;32m     77\u001b[0m \u001b[0;34m\u001b[0m\u001b[0m\n\u001b[1;32m     78\u001b[0m         \u001b[0;31m# set up PyAudio\u001b[0m\u001b[0;34m\u001b[0m\u001b[0;34m\u001b[0m\u001b[0;34m\u001b[0m\u001b[0m\n\u001b[0;32m---> 79\u001b[0;31m         \u001b[0mself\u001b[0m\u001b[0;34m.\u001b[0m\u001b[0mpyaudio_module\u001b[0m \u001b[0;34m=\u001b[0m \u001b[0mself\u001b[0m\u001b[0;34m.\u001b[0m\u001b[0mget_pyaudio\u001b[0m\u001b[0;34m(\u001b[0m\u001b[0;34m)\u001b[0m\u001b[0;34m\u001b[0m\u001b[0;34m\u001b[0m\u001b[0m\n\u001b[0m\u001b[1;32m     80\u001b[0m         \u001b[0maudio\u001b[0m \u001b[0;34m=\u001b[0m \u001b[0mself\u001b[0m\u001b[0;34m.\u001b[0m\u001b[0mpyaudio_module\u001b[0m\u001b[0;34m.\u001b[0m\u001b[0mPyAudio\u001b[0m\u001b[0;34m(\u001b[0m\u001b[0;34m)\u001b[0m\u001b[0;34m\u001b[0m\u001b[0;34m\u001b[0m\u001b[0m\n\u001b[1;32m     81\u001b[0m         \u001b[0;32mtry\u001b[0m\u001b[0;34m:\u001b[0m\u001b[0;34m\u001b[0m\u001b[0;34m\u001b[0m\u001b[0m\n",
            "\u001b[0;32m/usr/local/lib/python3.6/dist-packages/speech_recognition/__init__.py\u001b[0m in \u001b[0;36mget_pyaudio\u001b[0;34m()\u001b[0m\n\u001b[1;32m    108\u001b[0m             \u001b[0;32mimport\u001b[0m \u001b[0mpyaudio\u001b[0m\u001b[0;34m\u001b[0m\u001b[0;34m\u001b[0m\u001b[0m\n\u001b[1;32m    109\u001b[0m         \u001b[0;32mexcept\u001b[0m \u001b[0mImportError\u001b[0m\u001b[0;34m:\u001b[0m\u001b[0;34m\u001b[0m\u001b[0;34m\u001b[0m\u001b[0m\n\u001b[0;32m--> 110\u001b[0;31m             \u001b[0;32mraise\u001b[0m \u001b[0mAttributeError\u001b[0m\u001b[0;34m(\u001b[0m\u001b[0;34m\"Could not find PyAudio; check installation\"\u001b[0m\u001b[0;34m)\u001b[0m\u001b[0;34m\u001b[0m\u001b[0;34m\u001b[0m\u001b[0m\n\u001b[0m\u001b[1;32m    111\u001b[0m         \u001b[0;32mfrom\u001b[0m \u001b[0mdistutils\u001b[0m\u001b[0;34m.\u001b[0m\u001b[0mversion\u001b[0m \u001b[0;32mimport\u001b[0m \u001b[0mLooseVersion\u001b[0m\u001b[0;34m\u001b[0m\u001b[0;34m\u001b[0m\u001b[0m\n\u001b[1;32m    112\u001b[0m         \u001b[0;32mif\u001b[0m \u001b[0mLooseVersion\u001b[0m\u001b[0;34m(\u001b[0m\u001b[0mpyaudio\u001b[0m\u001b[0;34m.\u001b[0m\u001b[0m__version__\u001b[0m\u001b[0;34m)\u001b[0m \u001b[0;34m<\u001b[0m \u001b[0mLooseVersion\u001b[0m\u001b[0;34m(\u001b[0m\u001b[0;34m\"0.2.11\"\u001b[0m\u001b[0;34m)\u001b[0m\u001b[0;34m:\u001b[0m\u001b[0;34m\u001b[0m\u001b[0;34m\u001b[0m\u001b[0m\n",
            "\u001b[0;31mAttributeError\u001b[0m: Could not find PyAudio; check installation"
          ]
        }
      ]
    },
    {
      "cell_type": "code",
      "metadata": {
        "colab": {
          "resources": {
            "http://localhost:8080/nbextensions/google.colab/files.js": {
              "data": "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",
              "ok": true,
              "headers": [
                [
                  "content-type",
                  "application/javascript"
                ]
              ],
              "status": 200,
              "status_text": ""
            }
          },
          "base_uri": "https://localhost:8080/",
          "height": 72
        },
        "id": "xdbYq0PB1FwL",
        "outputId": "76e4af8e-9bde-4d7e-afab-a571068cec8d"
      },
      "source": [
        "from google.colab import files\r\n",
        "uploaded = files.upload()"
      ],
      "execution_count": 3,
      "outputs": [
        {
          "output_type": "display_data",
          "data": {
            "text/html": [
              "\n",
              "     <input type=\"file\" id=\"files-45bc4196-cac9-428b-b555-fea9c22715dd\" name=\"files[]\" multiple disabled\n",
              "        style=\"border:none\" />\n",
              "     <output id=\"result-45bc4196-cac9-428b-b555-fea9c22715dd\">\n",
              "      Upload widget is only available when the cell has been executed in the\n",
              "      current browser session. Please rerun this cell to enable.\n",
              "      </output>\n",
              "      <script src=\"/nbextensions/google.colab/files.js\"></script> "
            ],
            "text/plain": [
              "<IPython.core.display.HTML object>"
            ]
          },
          "metadata": {
            "tags": []
          }
        },
        {
          "output_type": "stream",
          "text": [
            "Saving carprobe.csv to carprobe.csv\n"
          ],
          "name": "stdout"
        }
      ]
    },
    {
      "cell_type": "code",
      "metadata": {
        "colab": {
          "base_uri": "https://localhost:8080/"
        },
        "id": "fsJRWpX61RSM",
        "outputId": "2d65a629-8359-4a5c-d468-89c1ed6b785c"
      },
      "source": [
        "Honda_data = pd.read_csv(io.BytesIO(uploaded['carprobe.csv']),header=None) #uploading the csv file to data\r\n",
        "Honda_data.info()"
      ],
      "execution_count": 23,
      "outputs": [
        {
          "output_type": "stream",
          "text": [
            "<class 'pandas.core.frame.DataFrame'>\n",
            "RangeIndex: 1456 entries, 0 to 1455\n",
            "Data columns (total 85 columns):\n",
            " #   Column  Non-Null Count  Dtype \n",
            "---  ------  --------------  ----- \n",
            " 0   0       39 non-null     object\n",
            " 1   1       1456 non-null   object\n",
            " 2   2       1456 non-null   object\n",
            " 3   3       1456 non-null   object\n",
            " 4   4       1456 non-null   object\n",
            " 5   5       1456 non-null   object\n",
            " 6   6       1456 non-null   object\n",
            " 7   7       39 non-null     object\n",
            " 8   8       1456 non-null   object\n",
            " 9   9       1456 non-null   object\n",
            " 10  10      1456 non-null   object\n",
            " 11  11      1456 non-null   object\n",
            " 12  12      1456 non-null   object\n",
            " 13  13      1456 non-null   object\n",
            " 14  14      1456 non-null   object\n",
            " 15  15      1456 non-null   object\n",
            " 16  16      1456 non-null   object\n",
            " 17  17      1456 non-null   object\n",
            " 18  18      1456 non-null   object\n",
            " 19  19      1456 non-null   object\n",
            " 20  20      1456 non-null   object\n",
            " 21  21      1456 non-null   object\n",
            " 22  22      1456 non-null   object\n",
            " 23  23      1456 non-null   object\n",
            " 24  24      1456 non-null   object\n",
            " 25  25      1456 non-null   object\n",
            " 26  26      1456 non-null   object\n",
            " 27  27      1456 non-null   object\n",
            " 28  28      1456 non-null   object\n",
            " 29  29      1456 non-null   object\n",
            " 30  30      1456 non-null   object\n",
            " 31  31      1456 non-null   object\n",
            " 32  32      1456 non-null   object\n",
            " 33  33      1456 non-null   object\n",
            " 34  34      1456 non-null   object\n",
            " 35  35      1456 non-null   object\n",
            " 36  36      1456 non-null   object\n",
            " 37  37      1456 non-null   object\n",
            " 38  38      1456 non-null   object\n",
            " 39  39      1456 non-null   object\n",
            " 40  40      1456 non-null   object\n",
            " 41  41      1456 non-null   object\n",
            " 42  42      1456 non-null   object\n",
            " 43  43      1456 non-null   object\n",
            " 44  44      1456 non-null   object\n",
            " 45  45      1456 non-null   object\n",
            " 46  46      1456 non-null   object\n",
            " 47  47      1456 non-null   object\n",
            " 48  48      1456 non-null   object\n",
            " 49  49      1456 non-null   object\n",
            " 50  50      1456 non-null   object\n",
            " 51  51      1456 non-null   object\n",
            " 52  52      1456 non-null   object\n",
            " 53  53      1456 non-null   object\n",
            " 54  54      1456 non-null   object\n",
            " 55  55      1456 non-null   object\n",
            " 56  56      1456 non-null   object\n",
            " 57  57      1456 non-null   object\n",
            " 58  58      1456 non-null   object\n",
            " 59  59      1429 non-null   object\n",
            " 60  60      56 non-null     object\n",
            " 61  61      1429 non-null   object\n",
            " 62  62      1454 non-null   object\n",
            " 63  63      1429 non-null   object\n",
            " 64  64      1456 non-null   object\n",
            " 65  65      1456 non-null   object\n",
            " 66  66      1456 non-null   object\n",
            " 67  67      1456 non-null   object\n",
            " 68  68      1456 non-null   object\n",
            " 69  69      1456 non-null   object\n",
            " 70  70      1456 non-null   object\n",
            " 71  71      20 non-null     object\n",
            " 72  72      1429 non-null   object\n",
            " 73  73      1456 non-null   object\n",
            " 74  74      1456 non-null   object\n",
            " 75  75      1456 non-null   object\n",
            " 76  76      1369 non-null   object\n",
            " 77  77      1375 non-null   object\n",
            " 78  78      1375 non-null   object\n",
            " 79  79      1395 non-null   object\n",
            " 80  80      1375 non-null   object\n",
            " 81  81      1456 non-null   object\n",
            " 82  82      1456 non-null   object\n",
            " 83  83      1456 non-null   object\n",
            " 84  84      1251 non-null   object\n",
            "dtypes: object(85)\n",
            "memory usage: 967.0+ KB\n"
          ],
          "name": "stdout"
        }
      ]
    },
    {
      "cell_type": "code",
      "metadata": {
        "colab": {
          "base_uri": "https://localhost:8080/"
        },
        "id": "bc5kgrEq1dmL",
        "outputId": "4d3c5aa3-3bf5-4d96-ae73-057994a8eb91"
      },
      "source": [
        "Honda_data.columns"
      ],
      "execution_count": 10,
      "outputs": [
        {
          "output_type": "execute_result",
          "data": {
            "text/plain": [
              "Index(['altitude', 'direction', 'distance', 'heading', 'latitude',\n",
              "       'local_time', 'longitude', 'matched_altitude', 'matched_heading',\n",
              "       'matched_latitude', 'matched_link_id', 'matched_longitude', 'mo_id',\n",
              "       'properties/L/Aircon_ACStatus_Front',\n",
              "       'properties/L/Aircon_AirRecirculationMode',\n",
              "       'properties/L/Aircon_FanStatus_Front', 'properties/L/Aircon_Mode_DR',\n",
              "       'properties/L/Aircon_RemoteControl_Status',\n",
              "       'properties/L/Aircon_TemperatureSetting_DR',\n",
              "       'properties/L/Aircon_TemperatureSetting_ValueType',\n",
              "       'properties/L/Brake_ParkingBrake (IG1PullUp)',\n",
              "       'properties/L/MeterIndicator_ABS',\n",
              "       'properties/L/MeterIndicator_AutoStop_Amber',\n",
              "       'properties/L/MeterIndicator_BATT',\n",
              "       'properties/L/MeterIndicator_Brake_Amber',\n",
              "       'properties/L/MeterIndicator_Brake_Red',\n",
              "       'properties/L/MeterIndicator_CruiseControl',\n",
              "       'properties/L/MeterIndicator_CruiseMain',\n",
              "       'properties/L/MeterIndicator_DoorOpen',\n",
              "       'properties/L/MeterIndicator_ECO', 'properties/L/MeterIndicator_EPS',\n",
              "       'properties/L/MeterIndicator_Engine_Failure',\n",
              "       'properties/L/MeterIndicator_FrontFog',\n",
              "       'properties/L/MeterIndicator_HeadlightControl_Failure',\n",
              "       'properties/L/MeterIndicator_Headlight_High',\n",
              "       'properties/L/MeterIndicator_Headlight_Small',\n",
              "       'properties/L/MeterIndicator_LowFuel_GAS',\n",
              "       'properties/L/MeterIndicator_Oil_Pressure',\n",
              "       'properties/L/MeterIndicator_ParkingSensor_Amber',\n",
              "       'properties/L/MeterIndicator_PowerSystem_Failure',\n",
              "       'properties/L/MeterIndicator_SRS',\n",
              "       'properties/L/MeterIndicator_Seatbelt',\n",
              "       'properties/L/MeterIndicator_Seatbelt_RC',\n",
              "       'properties/L/MeterIndicator_Seatbelt_RL',\n",
              "       'properties/L/MeterIndicator_Seatbelt_RR',\n",
              "       'properties/L/MeterIndicator_SmartEntry',\n",
              "       'properties/L/MeterIndicator_SportMode',\n",
              "       'properties/L/MeterIndicator_TEMP_Cold_Hot',\n",
              "       'properties/L/MeterIndicator_TEMP_Hot',\n",
              "       'properties/L/MeterIndicator_TPMS_DWS',\n",
              "       'properties/L/MeterIndicator_VSA_Act',\n",
              "       'properties/L/MeterIndicator_Washer_Empty',\n",
              "       'properties/L/RemoteEngineStarter_PowerMode',\n",
              "       'properties/L/SeatBeltReminder_DR', 'properties/L/SeatBeltReminder_RC',\n",
              "       'properties/L/SeatBeltReminder_RL', 'properties/L/SeatBeltReminder_RR',\n",
              "       'properties/L/SeatbeltStatus_DR', 'properties/L/SecurityAlarm',\n",
              "       'properties/O/EngineCoolantTemp', 'properties/O/FuelLevel',\n",
              "       'properties/O/FuelLevelRaw', 'properties/O/VehicleInteriorTemperature',\n",
              "       'properties/O/ccMainSw', 'properties/O/distanceToEmpty',\n",
              "       'properties/O/engineRpm', 'properties/O/fuelMode',\n",
              "       'properties/O/fuelRatio', 'properties/O/ignitionOnTime',\n",
              "       'properties/O/meterIndicatorLowFuel', 'properties/O/odometer',\n",
              "       'properties/O/seatBeltStatus', 'properties/O/tcuAcc',\n",
              "       'properties/O/tcuAccuracy', 'properties/O/tcuBatteryVoltage',\n",
              "       'properties/O/tcuIgnitionStatus', 'properties/O/tripEndTime',\n",
              "       'properties/O/tripStartLat', 'properties/O/tripStartLong',\n",
              "       'properties/O/tripStartTime', 'properties/O/tripStatus', 'road_type',\n",
              "       'speed', 'timestamp', 'trip_id'],\n",
              "      dtype='object')"
            ]
          },
          "metadata": {
            "tags": []
          },
          "execution_count": 10
        }
      ]
    },
    {
      "cell_type": "code",
      "metadata": {
        "colab": {
          "base_uri": "https://localhost:8080/",
          "height": 875
        },
        "id": "5vFEhkOE1jmB",
        "outputId": "8edc5b35-df8a-4674-fdfd-c40837c7ab80"
      },
      "source": [
        "Honda_data.describe().transpose()"
      ],
      "execution_count": 11,
      "outputs": [
        {
          "output_type": "execute_result",
          "data": {
            "text/html": [
              "<div>\n",
              "<style scoped>\n",
              "    .dataframe tbody tr th:only-of-type {\n",
              "        vertical-align: middle;\n",
              "    }\n",
              "\n",
              "    .dataframe tbody tr th {\n",
              "        vertical-align: top;\n",
              "    }\n",
              "\n",
              "    .dataframe thead th {\n",
              "        text-align: right;\n",
              "    }\n",
              "</style>\n",
              "<table border=\"1\" class=\"dataframe\">\n",
              "  <thead>\n",
              "    <tr style=\"text-align: right;\">\n",
              "      <th></th>\n",
              "      <th>count</th>\n",
              "      <th>mean</th>\n",
              "      <th>std</th>\n",
              "      <th>min</th>\n",
              "      <th>25%</th>\n",
              "      <th>50%</th>\n",
              "      <th>75%</th>\n",
              "      <th>max</th>\n",
              "    </tr>\n",
              "  </thead>\n",
              "  <tbody>\n",
              "    <tr>\n",
              "      <th>altitude</th>\n",
              "      <td>38.0</td>\n",
              "      <td>0.000000e+00</td>\n",
              "      <td>0.000000e+00</td>\n",
              "      <td>0.000000e+00</td>\n",
              "      <td>0.000000e+00</td>\n",
              "      <td>0.000000e+00</td>\n",
              "      <td>0.000000e+00</td>\n",
              "      <td>0.000000e+00</td>\n",
              "    </tr>\n",
              "    <tr>\n",
              "      <th>direction</th>\n",
              "      <td>1455.0</td>\n",
              "      <td>1.186942e+00</td>\n",
              "      <td>3.899987e-01</td>\n",
              "      <td>1.000000e+00</td>\n",
              "      <td>1.000000e+00</td>\n",
              "      <td>1.000000e+00</td>\n",
              "      <td>1.000000e+00</td>\n",
              "      <td>2.000000e+00</td>\n",
              "    </tr>\n",
              "    <tr>\n",
              "      <th>distance</th>\n",
              "      <td>1455.0</td>\n",
              "      <td>1.680004e+02</td>\n",
              "      <td>2.033254e+02</td>\n",
              "      <td>0.000000e+00</td>\n",
              "      <td>5.831845e+01</td>\n",
              "      <td>1.103150e+02</td>\n",
              "      <td>1.544597e+02</td>\n",
              "      <td>1.237231e+03</td>\n",
              "    </tr>\n",
              "    <tr>\n",
              "      <th>heading</th>\n",
              "      <td>1455.0</td>\n",
              "      <td>1.739844e+02</td>\n",
              "      <td>1.044607e+02</td>\n",
              "      <td>0.000000e+00</td>\n",
              "      <td>9.320000e+01</td>\n",
              "      <td>1.358000e+02</td>\n",
              "      <td>2.900500e+02</td>\n",
              "      <td>3.591000e+02</td>\n",
              "    </tr>\n",
              "    <tr>\n",
              "      <th>latitude</th>\n",
              "      <td>1455.0</td>\n",
              "      <td>1.270873e+01</td>\n",
              "      <td>7.511578e-03</td>\n",
              "      <td>1.268836e+01</td>\n",
              "      <td>1.270797e+01</td>\n",
              "      <td>1.271185e+01</td>\n",
              "      <td>1.271219e+01</td>\n",
              "      <td>1.271725e+01</td>\n",
              "    </tr>\n",
              "    <tr>\n",
              "      <th>longitude</th>\n",
              "      <td>1455.0</td>\n",
              "      <td>7.789609e+01</td>\n",
              "      <td>1.160046e-02</td>\n",
              "      <td>7.787777e+01</td>\n",
              "      <td>7.789133e+01</td>\n",
              "      <td>7.789169e+01</td>\n",
              "      <td>7.790118e+01</td>\n",
              "      <td>7.792397e+01</td>\n",
              "    </tr>\n",
              "    <tr>\n",
              "      <th>matched_altitude</th>\n",
              "      <td>38.0</td>\n",
              "      <td>0.000000e+00</td>\n",
              "      <td>0.000000e+00</td>\n",
              "      <td>0.000000e+00</td>\n",
              "      <td>0.000000e+00</td>\n",
              "      <td>0.000000e+00</td>\n",
              "      <td>0.000000e+00</td>\n",
              "      <td>0.000000e+00</td>\n",
              "    </tr>\n",
              "    <tr>\n",
              "      <th>matched_heading</th>\n",
              "      <td>1455.0</td>\n",
              "      <td>1.884436e+02</td>\n",
              "      <td>9.423385e+01</td>\n",
              "      <td>2.023107e+01</td>\n",
              "      <td>1.062426e+02</td>\n",
              "      <td>1.361967e+02</td>\n",
              "      <td>2.862426e+02</td>\n",
              "      <td>3.544433e+02</td>\n",
              "    </tr>\n",
              "    <tr>\n",
              "      <th>matched_latitude</th>\n",
              "      <td>1455.0</td>\n",
              "      <td>1.270872e+01</td>\n",
              "      <td>7.511329e-03</td>\n",
              "      <td>1.268836e+01</td>\n",
              "      <td>1.270792e+01</td>\n",
              "      <td>1.271179e+01</td>\n",
              "      <td>1.271237e+01</td>\n",
              "      <td>1.271730e+01</td>\n",
              "    </tr>\n",
              "    <tr>\n",
              "      <th>matched_link_id</th>\n",
              "      <td>1455.0</td>\n",
              "      <td>1.548896e+08</td>\n",
              "      <td>6.529306e+07</td>\n",
              "      <td>7.200410e+07</td>\n",
              "      <td>7.236154e+07</td>\n",
              "      <td>2.035026e+08</td>\n",
              "      <td>2.035068e+08</td>\n",
              "      <td>2.160068e+08</td>\n",
              "    </tr>\n",
              "    <tr>\n",
              "      <th>matched_longitude</th>\n",
              "      <td>1455.0</td>\n",
              "      <td>7.789610e+01</td>\n",
              "      <td>1.159047e-02</td>\n",
              "      <td>7.787774e+01</td>\n",
              "      <td>7.789138e+01</td>\n",
              "      <td>7.789174e+01</td>\n",
              "      <td>7.790104e+01</td>\n",
              "      <td>7.792400e+01</td>\n",
              "    </tr>\n",
              "    <tr>\n",
              "      <th>properties/O/EngineCoolantTemp</th>\n",
              "      <td>1428.0</td>\n",
              "      <td>7.642507e+01</td>\n",
              "      <td>9.515781e+00</td>\n",
              "      <td>2.300000e+01</td>\n",
              "      <td>7.800000e+01</td>\n",
              "      <td>8.000000e+01</td>\n",
              "      <td>8.100000e+01</td>\n",
              "      <td>8.600000e+01</td>\n",
              "    </tr>\n",
              "    <tr>\n",
              "      <th>properties/O/FuelLevelRaw</th>\n",
              "      <td>1428.0</td>\n",
              "      <td>8.155665e-01</td>\n",
              "      <td>7.929891e-01</td>\n",
              "      <td>4.296875e-01</td>\n",
              "      <td>4.492188e-01</td>\n",
              "      <td>4.492188e-01</td>\n",
              "      <td>1.035156e+00</td>\n",
              "      <td>4.140625e+00</td>\n",
              "    </tr>\n",
              "    <tr>\n",
              "      <th>properties/O/VehicleInteriorTemperature</th>\n",
              "      <td>1453.0</td>\n",
              "      <td>2.499036e+01</td>\n",
              "      <td>3.036947e+00</td>\n",
              "      <td>1.900000e+01</td>\n",
              "      <td>2.400000e+01</td>\n",
              "      <td>2.400000e+01</td>\n",
              "      <td>2.600000e+01</td>\n",
              "      <td>3.500000e+01</td>\n",
              "    </tr>\n",
              "    <tr>\n",
              "      <th>properties/O/engineRpm</th>\n",
              "      <td>1455.0</td>\n",
              "      <td>1.445049e+03</td>\n",
              "      <td>7.525756e+02</td>\n",
              "      <td>0.000000e+00</td>\n",
              "      <td>8.300000e+02</td>\n",
              "      <td>1.130000e+03</td>\n",
              "      <td>2.027000e+03</td>\n",
              "      <td>3.888000e+03</td>\n",
              "    </tr>\n",
              "    <tr>\n",
              "      <th>properties/O/fuelRatio</th>\n",
              "      <td>1455.0</td>\n",
              "      <td>9.373540e+01</td>\n",
              "      <td>2.080229e+01</td>\n",
              "      <td>0.000000e+00</td>\n",
              "      <td>9.600000e+01</td>\n",
              "      <td>1.000000e+02</td>\n",
              "      <td>1.000000e+02</td>\n",
              "      <td>1.000000e+02</td>\n",
              "    </tr>\n",
              "    <tr>\n",
              "      <th>properties/O/odometer</th>\n",
              "      <td>1455.0</td>\n",
              "      <td>2.021100e+01</td>\n",
              "      <td>1.389374e+01</td>\n",
              "      <td>4.000000e+00</td>\n",
              "      <td>6.000000e+00</td>\n",
              "      <td>1.800000e+01</td>\n",
              "      <td>3.300000e+01</td>\n",
              "      <td>4.600000e+01</td>\n",
              "    </tr>\n",
              "    <tr>\n",
              "      <th>properties/O/tcuAccuracy</th>\n",
              "      <td>1455.0</td>\n",
              "      <td>3.176082e+00</td>\n",
              "      <td>4.954295e+00</td>\n",
              "      <td>2.000000e-01</td>\n",
              "      <td>2.000000e+00</td>\n",
              "      <td>2.000000e+00</td>\n",
              "      <td>2.000000e+00</td>\n",
              "      <td>1.370000e+02</td>\n",
              "    </tr>\n",
              "    <tr>\n",
              "      <th>properties/O/tcuBatteryVoltage</th>\n",
              "      <td>1455.0</td>\n",
              "      <td>1.436873e+01</td>\n",
              "      <td>8.144361e-01</td>\n",
              "      <td>9.600000e+00</td>\n",
              "      <td>1.365000e+01</td>\n",
              "      <td>1.480000e+01</td>\n",
              "      <td>1.490000e+01</td>\n",
              "      <td>1.500000e+01</td>\n",
              "    </tr>\n",
              "    <tr>\n",
              "      <th>properties/O/tripEndTime</th>\n",
              "      <td>1368.0</td>\n",
              "      <td>0.000000e+00</td>\n",
              "      <td>0.000000e+00</td>\n",
              "      <td>0.000000e+00</td>\n",
              "      <td>0.000000e+00</td>\n",
              "      <td>0.000000e+00</td>\n",
              "      <td>0.000000e+00</td>\n",
              "      <td>0.000000e+00</td>\n",
              "    </tr>\n",
              "    <tr>\n",
              "      <th>properties/O/tripStartLat</th>\n",
              "      <td>1374.0</td>\n",
              "      <td>1.271224e+01</td>\n",
              "      <td>2.150999e-04</td>\n",
              "      <td>1.271185e+01</td>\n",
              "      <td>1.271201e+01</td>\n",
              "      <td>1.271236e+01</td>\n",
              "      <td>1.271236e+01</td>\n",
              "      <td>1.271236e+01</td>\n",
              "    </tr>\n",
              "    <tr>\n",
              "      <th>properties/O/tripStartLong</th>\n",
              "      <td>1374.0</td>\n",
              "      <td>7.789172e+01</td>\n",
              "      <td>4.398939e-05</td>\n",
              "      <td>7.789164e+01</td>\n",
              "      <td>7.789173e+01</td>\n",
              "      <td>7.789173e+01</td>\n",
              "      <td>7.789173e+01</td>\n",
              "      <td>7.789181e+01</td>\n",
              "    </tr>\n",
              "    <tr>\n",
              "      <th>road_type</th>\n",
              "      <td>1455.0</td>\n",
              "      <td>2.221306e+00</td>\n",
              "      <td>1.791532e+00</td>\n",
              "      <td>0.000000e+00</td>\n",
              "      <td>0.000000e+00</td>\n",
              "      <td>3.000000e+00</td>\n",
              "      <td>3.000000e+00</td>\n",
              "      <td>5.000000e+00</td>\n",
              "    </tr>\n",
              "    <tr>\n",
              "      <th>speed</th>\n",
              "      <td>1455.0</td>\n",
              "      <td>3.300940e+01</td>\n",
              "      <td>3.584662e+01</td>\n",
              "      <td>0.000000e+00</td>\n",
              "      <td>0.000000e+00</td>\n",
              "      <td>1.644000e+01</td>\n",
              "      <td>6.691500e+01</td>\n",
              "      <td>1.193700e+02</td>\n",
              "    </tr>\n",
              "    <tr>\n",
              "      <th>timestamp</th>\n",
              "      <td>1455.0</td>\n",
              "      <td>1.594811e+12</td>\n",
              "      <td>9.874628e+06</td>\n",
              "      <td>1.594790e+12</td>\n",
              "      <td>1.594810e+12</td>\n",
              "      <td>1.594810e+12</td>\n",
              "      <td>1.594820e+12</td>\n",
              "      <td>1.594820e+12</td>\n",
              "    </tr>\n",
              "    <tr>\n",
              "      <th>trip_id</th>\n",
              "      <td>1250.0</td>\n",
              "      <td>1.190000e+16</td>\n",
              "      <td>0.000000e+00</td>\n",
              "      <td>1.190000e+16</td>\n",
              "      <td>1.190000e+16</td>\n",
              "      <td>1.190000e+16</td>\n",
              "      <td>1.190000e+16</td>\n",
              "      <td>1.190000e+16</td>\n",
              "    </tr>\n",
              "  </tbody>\n",
              "</table>\n",
              "</div>"
            ],
            "text/plain": [
              "                                          count  ...           max\n",
              "altitude                                   38.0  ...  0.000000e+00\n",
              "direction                                1455.0  ...  2.000000e+00\n",
              "distance                                 1455.0  ...  1.237231e+03\n",
              "heading                                  1455.0  ...  3.591000e+02\n",
              "latitude                                 1455.0  ...  1.271725e+01\n",
              "longitude                                1455.0  ...  7.792397e+01\n",
              "matched_altitude                           38.0  ...  0.000000e+00\n",
              "matched_heading                          1455.0  ...  3.544433e+02\n",
              "matched_latitude                         1455.0  ...  1.271730e+01\n",
              "matched_link_id                          1455.0  ...  2.160068e+08\n",
              "matched_longitude                        1455.0  ...  7.792400e+01\n",
              "properties/O/EngineCoolantTemp           1428.0  ...  8.600000e+01\n",
              "properties/O/FuelLevelRaw                1428.0  ...  4.140625e+00\n",
              "properties/O/VehicleInteriorTemperature  1453.0  ...  3.500000e+01\n",
              "properties/O/engineRpm                   1455.0  ...  3.888000e+03\n",
              "properties/O/fuelRatio                   1455.0  ...  1.000000e+02\n",
              "properties/O/odometer                    1455.0  ...  4.600000e+01\n",
              "properties/O/tcuAccuracy                 1455.0  ...  1.370000e+02\n",
              "properties/O/tcuBatteryVoltage           1455.0  ...  1.500000e+01\n",
              "properties/O/tripEndTime                 1368.0  ...  0.000000e+00\n",
              "properties/O/tripStartLat                1374.0  ...  1.271236e+01\n",
              "properties/O/tripStartLong               1374.0  ...  7.789181e+01\n",
              "road_type                                1455.0  ...  5.000000e+00\n",
              "speed                                    1455.0  ...  1.193700e+02\n",
              "timestamp                                1455.0  ...  1.594820e+12\n",
              "trip_id                                  1250.0  ...  1.190000e+16\n",
              "\n",
              "[26 rows x 8 columns]"
            ]
          },
          "metadata": {
            "tags": []
          },
          "execution_count": 11
        }
      ]
    },
    {
      "cell_type": "code",
      "metadata": {
        "id": "kHCA4bxU3E7n"
      },
      "source": [
        "from geopy.geocoders import Nominatim\r\n",
        "import time\r\n",
        "from pprint import pprint"
      ],
      "execution_count": 13,
      "outputs": []
    },
    {
      "cell_type": "code",
      "metadata": {
        "id": "ilSbAcvX3PVV"
      },
      "source": [
        "app = Nominatim(user_agent=\"tutorial\")"
      ],
      "execution_count": 15,
      "outputs": []
    },
    {
      "cell_type": "code",
      "metadata": {
        "colab": {
          "base_uri": "https://localhost:8080/"
        },
        "id": "woYyhzfh3KCD",
        "outputId": "72b67be6-0e70-41c1-be0b-78ecb34612a5"
      },
      "source": [
        "location = app.geocode(\"Nairobi, Kenya\").raw\r\n",
        "# print raw data\r\n",
        "pprint(location)"
      ],
      "execution_count": 16,
      "outputs": [
        {
          "output_type": "stream",
          "text": [
            "{'boundingbox': ['-1.444471', '-1.163332', '36.6509378', '37.1038871'],\n",
            " 'class': 'place',\n",
            " 'display_name': 'Nairobi, Kenya',\n",
            " 'icon': 'https://nominatim.openstreetmap.org/ui/mapicons//poi_place_city.p.20.png',\n",
            " 'importance': 0.845026759433763,\n",
            " 'lat': '-1.3031689499999999',\n",
            " 'licence': 'Data © OpenStreetMap contributors, ODbL 1.0. '\n",
            "            'https://osm.org/copyright',\n",
            " 'lon': '36.826061224105075',\n",
            " 'osm_id': 9185096,\n",
            " 'osm_type': 'relation',\n",
            " 'place_id': 296789203,\n",
            " 'type': 'city'}\n"
          ],
          "name": "stdout"
        }
      ]
    },
    {
      "cell_type": "code",
      "metadata": {
        "id": "pZ6A9urA3X2W"
      },
      "source": [
        "def get_location_by_address(address):\r\n",
        "    \"\"\"This function returns a location as raw from an address\r\n",
        "    will repeat until success\"\"\"\r\n",
        "    time.sleep(1)\r\n",
        "    try:\r\n",
        "        return app.geocode(address).raw\r\n",
        "    except:\r\n",
        "        return get_location_by_address(address)"
      ],
      "execution_count": 18,
      "outputs": []
    },
    {
      "cell_type": "code",
      "metadata": {
        "colab": {
          "base_uri": "https://localhost:8080/"
        },
        "id": "1KCvVdRR3a0y",
        "outputId": "b486a76a-4eed-4aea-98ae-be1d5fa0cf97"
      },
      "source": [
        "address ='TVSundram Iyangar, NH44;NH48, Shoolagiri, Hosur, Krishnagiri District, Tamil '\r\n",
        "'Nadu, 635117, India'\r\n",
        "location = get_location_by_address(address)\r\n",
        "latitude = location[\"lat\"]\r\n",
        "longitude = location[\"lon\"]\r\n",
        "print(f\"{latitude}, {longitude}\")\r\n",
        "# print all returned data\r\n",
        "pprint(location)"
      ],
      "execution_count": 133,
      "outputs": [
        {
          "output_type": "stream",
          "text": [
            "12.7117299, 77.8957463\n",
            "{'boundingbox': ['12.7116799', '12.7117799', '77.8956963', '77.8957963'],\n",
            " 'class': 'amenity',\n",
            " 'display_name': 'TVSundram Iyangar, NH44;NH48, Shoolagiri, Hosur, Krishnagiri '\n",
            "                 'District, Tamil Nadu, 635117, India',\n",
            " 'icon': 'https://nominatim.openstreetmap.org/ui/mapicons//transport_fuel.p.20.png',\n",
            " 'importance': 0.9209999999999999,\n",
            " 'lat': '12.7117299',\n",
            " 'licence': 'Data © OpenStreetMap contributors, ODbL 1.0. '\n",
            "            'https://osm.org/copyright',\n",
            " 'lon': '77.8957463',\n",
            " 'osm_id': 2248036948,\n",
            " 'osm_type': 'node',\n",
            " 'place_id': 21248868,\n",
            " 'type': 'fuel'}\n"
          ],
          "name": "stdout"
        }
      ]
    },
    {
      "cell_type": "code",
      "metadata": {
        "id": "6ivf1pOR3mbd"
      },
      "source": [
        "def get_address_by_location(latitude, longitude, language=\"en\"):\r\n",
        "    \"\"\"This function returns an address as raw from a location\r\n",
        "    will repeat until success\"\"\"\r\n",
        "    # build coordinates string to pass to reverse() function\r\n",
        "    coordinates = f\"{latitude}, {longitude}\"\r\n",
        "    # sleep for a second to respect Usage Policy\r\n",
        "    time.sleep(1)\r\n",
        "    try:\r\n",
        "        return app.reverse(coordinates, language=language).raw\r\n",
        "    except:\r\n",
        "        return get_address_by_location(latitude, longitude)"
      ],
      "execution_count": 20,
      "outputs": []
    },
    {
      "cell_type": "code",
      "metadata": {
        "colab": {
          "base_uri": "https://localhost:8080/"
        },
        "id": "hM33buVA3qyj",
        "outputId": "a17bf206-8185-4015-e79f-c9186ff583ab"
      },
      "source": [
        "# define your coordinates\r\n",
        "latitude = 17.6868159#36.723\r\n",
        "longitude = 83.2184815#3.188\r\n",
        "# get the address info\r\n",
        "address = get_address_by_location(latitude, longitude)\r\n",
        "# print all returned data\r\n",
        "pprint(address)"
      ],
      "execution_count": 21,
      "outputs": [
        {
          "output_type": "stream",
          "text": [
            "{'address': {'country': 'India',\n",
            "             'country_code': 'in',\n",
            "             'county': 'Gajuwaka',\n",
            "             'neighbourhood': 'Zinc Colony',\n",
            "             'postcode': '530005',\n",
            "             'state': 'Andhra Pradesh',\n",
            "             'state_district': 'Visakhapatnam',\n",
            "             'suburb': 'Gajuwaka'},\n",
            " 'boundingbox': ['17.6855592', '17.6908514', '83.2159501', '83.268423'],\n",
            " 'display_name': 'Zinc Colony, Gajuwaka, Visakhapatnam, Andhra Pradesh, '\n",
            "                 '530005, India',\n",
            " 'lat': '17.687249730066142',\n",
            " 'licence': 'Data © OpenStreetMap contributors, ODbL 1.0. '\n",
            "            'https://osm.org/copyright',\n",
            " 'lon': '83.21827216367915',\n",
            " 'osm_id': 97985985,\n",
            " 'osm_type': 'way',\n",
            " 'place_id': 112775327}\n"
          ],
          "name": "stdout"
        }
      ]
    },
    {
      "cell_type": "code",
      "metadata": {
        "id": "1Ry2mB065Lwd",
        "colab": {
          "base_uri": "https://localhost:8080/",
          "height": 1000
        },
        "outputId": "03ce7304-ef85-42b2-e22d-a8e0b19fbbcb"
      },
      "source": [
        "\r\n",
        "\r\n",
        "##from timezonefinder import TimezoneFinder\r\n",
        "\r\n",
        "#tf = TimezoneFinder()\r\n",
        "latitude1=[]\r\n",
        "longitude1=[]\r\n",
        "for i in Honda_data[4]:\r\n",
        "  latitude1.append(str(i))\r\n",
        "\r\n",
        "for i in Honda_data[6]:\r\n",
        "  longitude1.append(str(i))\r\n",
        "#print(latitude1)\r\n",
        "c=0\r\n",
        "names=[]\r\n",
        "\r\n",
        "#print(float(longitude1[i]))\r\n",
        "#tf.timezone_at(lng=longitude, lat=latitude) # returns 'Europe/Berlin'\r\n",
        "\r\n",
        "for i in range(1,len(Honda_data)):#3):\r\n",
        "  #print(latitude1[i])\r\n",
        "  latitude = float(latitude1[i])\r\n",
        "  longitude= float(longitude1[i])\r\n",
        "  #print(float(longitude1[i]))\r\n",
        "  #tf.timezone_at(lng=longitude, lat=latitude) # returns 'Europe/Berlin'\r\n",
        "  address = get_address_by_location(latitude, longitude)\r\n",
        "  # print all returned data\r\n",
        "  #pprint(address)\r\n",
        "  displayname=address.get(\"display_name\")\r\n",
        "  pprint(displayname)\r\n",
        "  #pprint(address.get(\"address\"))\r\n",
        "  #print(get_address_by_location(latitude, longitude, language=\"en\"))\r\n",
        "  #print(latitude, longitude)\r\n",
        "  #print(tf.certain_timezone_at(lng='83.2184815', lat=17.6868159))\r\n",
        "  #print(tf.timezone_names(lng=latitude, lat=longitude))\r\n",
        "  #c=c+1\r\n",
        "#print(names)\r\n"
      ],
      "execution_count": 24,
      "outputs": [
        {
          "output_type": "stream",
          "text": [
            "'Hosur, Krishnagiri District, Tamil Nadu, 635109, India'\n",
            "'Hosur, Krishnagiri District, Tamil Nadu, 635109, India'\n",
            "'Hosur, Krishnagiri District, Tamil Nadu, 635109, India'\n",
            "'Hosur, Krishnagiri District, Tamil Nadu, 635109, India'\n",
            "'Hosur, Krishnagiri District, Tamil Nadu, 635109, India'\n",
            "'Hosur, Krishnagiri District, Tamil Nadu, 635109, India'\n",
            "'Hosur, Krishnagiri District, Tamil Nadu, 635109, India'\n",
            "'Hosur, Krishnagiri District, Tamil Nadu, 635109, India'\n",
            "'Hosur, Krishnagiri District, Tamil Nadu, 635109, India'\n",
            "'Hosur, Krishnagiri District, Tamil Nadu, 635109, India'\n",
            "'Hosur, Krishnagiri District, Tamil Nadu, 635109, India'\n",
            "'Hosur, Krishnagiri District, Tamil Nadu, 635109, India'\n",
            "'Hosur, Krishnagiri District, Tamil Nadu, 635109, India'\n",
            "'Hosur, Krishnagiri District, Tamil Nadu, 635109, India'\n",
            "'Hosur, Krishnagiri District, Tamil Nadu, 635109, India'\n",
            "'Hosur, Krishnagiri District, Tamil Nadu, 635109, India'\n",
            "'Hosur, Krishnagiri District, Tamil Nadu, 635109, India'\n",
            "'Hosur, Krishnagiri District, Tamil Nadu, 635109, India'\n",
            "'Hosur, Krishnagiri District, Tamil Nadu, 635109, India'\n",
            "'Hosur, Krishnagiri District, Tamil Nadu, 635109, India'\n",
            "'Hosur, Krishnagiri District, Tamil Nadu, 635109, India'\n",
            "'Hosur, Krishnagiri District, Tamil Nadu, 635109, India'\n",
            "'Hosur, Krishnagiri District, Tamil Nadu, 635109, India'\n",
            "'Hosur, Krishnagiri District, Tamil Nadu, 635109, India'\n",
            "'Hosur, Krishnagiri District, Tamil Nadu, 635109, India'\n",
            "'Hosur, Krishnagiri District, Tamil Nadu, 635109, India'\n",
            "'Hosur, Krishnagiri District, Tamil Nadu, 635109, India'\n",
            "'Hosur, Krishnagiri District, Tamil Nadu, 635109, India'\n",
            "'Hosur, Krishnagiri District, Tamil Nadu, 635109, India'\n",
            "'Hosur, Krishnagiri District, Tamil Nadu, 635109, India'\n",
            "'Hosur, Krishnagiri District, Tamil Nadu, 635109, India'\n",
            "'Hosur, Krishnagiri District, Tamil Nadu, 635109, India'\n",
            "'Hosur, Krishnagiri District, Tamil Nadu, 635109, India'\n",
            "'Hosur, Krishnagiri District, Tamil Nadu, 635109, India'\n",
            "'Hosur, Krishnagiri District, Tamil Nadu, 635109, India'\n",
            "'Hosur, Krishnagiri District, Tamil Nadu, 635109, India'\n",
            "'Hosur, Krishnagiri District, Tamil Nadu, 635109, India'\n",
            "'Hosur, Krishnagiri District, Tamil Nadu, 635109, India'\n",
            "'Hosur, Krishnagiri District, Tamil Nadu, 635109, India'\n",
            "'Hosur, Krishnagiri District, Tamil Nadu, 635109, India'\n",
            "'Hosur, Krishnagiri District, Tamil Nadu, 635109, India'\n",
            "'Hosur, Krishnagiri District, Tamil Nadu, 635109, India'\n",
            "'Hosur, Krishnagiri District, Tamil Nadu, 635109, India'\n",
            "'Hosur, Krishnagiri District, Tamil Nadu, 635109, India'\n",
            "'Hosur, Krishnagiri District, Tamil Nadu, 635109, India'\n",
            "'Hosur, Krishnagiri District, Tamil Nadu, 635109, India'\n",
            "'Hosur, Krishnagiri District, Tamil Nadu, 635109, India'\n",
            "'Hosur, Krishnagiri District, Tamil Nadu, 635109, India'\n",
            "'Hosur, Krishnagiri District, Tamil Nadu, 635109, India'\n",
            "'Hosur, Krishnagiri District, Tamil Nadu, 635109, India'\n",
            "'Hosur, Krishnagiri District, Tamil Nadu, 635109, India'\n",
            "'Hosur, Krishnagiri District, Tamil Nadu, 635109, India'\n",
            "'Hosur, Krishnagiri District, Tamil Nadu, 635109, India'\n",
            "'Hosur, Krishnagiri District, Tamil Nadu, 635109, India'\n",
            "'Hosur, Krishnagiri District, Tamil Nadu, 635109, India'\n",
            "'Hosur, Krishnagiri District, Tamil Nadu, 635109, India'\n",
            "'Hosur, Krishnagiri District, Tamil Nadu, 635109, India'\n",
            "'Hosur, Krishnagiri District, Tamil Nadu, 635109, India'\n",
            "'Hosur, Krishnagiri District, Tamil Nadu, 635109, India'\n",
            "'Hosur, Krishnagiri District, Tamil Nadu, 635109, India'\n",
            "'Hosur, Krishnagiri District, Tamil Nadu, 635109, India'\n",
            "'Hosur, Krishnagiri District, Tamil Nadu, 635109, India'\n",
            "'Hosur, Krishnagiri District, Tamil Nadu, 635109, India'\n",
            "'Hosur, Krishnagiri District, Tamil Nadu, 635109, India'\n",
            "'Hosur, Krishnagiri District, Tamil Nadu, 635109, India'\n",
            "'Hosur, Krishnagiri District, Tamil Nadu, 635109, India'\n",
            "('TVSundram Iyangar, NH44;NH48, Shoolagiri, Hosur, Krishnagiri District, Tamil '\n",
            " 'Nadu, 635117, India')\n",
            "('TVSundram Iyangar, NH44;NH48, Shoolagiri, Hosur, Krishnagiri District, Tamil '\n",
            " 'Nadu, 635117, India')\n",
            "('TVSundram Iyangar, NH44;NH48, Shoolagiri, Hosur, Krishnagiri District, Tamil '\n",
            " 'Nadu, 635117, India')\n",
            "('TVSundram Iyangar, NH44;NH48, Shoolagiri, Hosur, Krishnagiri District, Tamil '\n",
            " 'Nadu, 635117, India')\n",
            "('TVSundram Iyangar, NH44;NH48, Shoolagiri, Hosur, Krishnagiri District, Tamil '\n",
            " 'Nadu, 635117, India')\n",
            "('TVSundram Iyangar, NH44;NH48, Shoolagiri, Hosur, Krishnagiri District, Tamil '\n",
            " 'Nadu, 635117, India')\n",
            "('TVSundram Iyangar, NH44;NH48, Shoolagiri, Hosur, Krishnagiri District, Tamil '\n",
            " 'Nadu, 635117, India')\n",
            "('TVSundram Iyangar, NH44;NH48, Shoolagiri, Hosur, Krishnagiri District, Tamil '\n",
            " 'Nadu, 635117, India')\n",
            "('TVSundram Iyangar, NH44;NH48, Shoolagiri, Hosur, Krishnagiri District, Tamil '\n",
            " 'Nadu, 635117, India')\n",
            "('TVSundram Iyangar, NH44;NH48, Shoolagiri, Hosur, Krishnagiri District, Tamil '\n",
            " 'Nadu, 635117, India')\n",
            "('TVSundram Iyangar, NH44;NH48, Shoolagiri, Hosur, Krishnagiri District, Tamil '\n",
            " 'Nadu, 635117, India')\n",
            "('TVSundram Iyangar, NH44;NH48, Shoolagiri, Hosur, Krishnagiri District, Tamil '\n",
            " 'Nadu, 635117, India')\n",
            "('TVSundram Iyangar, NH44;NH48, Shoolagiri, Hosur, Krishnagiri District, Tamil '\n",
            " 'Nadu, 635117, India')\n",
            "('TVSundram Iyangar, NH44;NH48, Shoolagiri, Hosur, Krishnagiri District, Tamil '\n",
            " 'Nadu, 635117, India')\n",
            "('TVSundram Iyangar, NH44;NH48, Shoolagiri, Hosur, Krishnagiri District, Tamil '\n",
            " 'Nadu, 635117, India')\n",
            "('TVSundram Iyangar, NH44;NH48, Shoolagiri, Hosur, Krishnagiri District, Tamil '\n",
            " 'Nadu, 635117, India')\n",
            "('TVSundram Iyangar, NH44;NH48, Shoolagiri, Hosur, Krishnagiri District, Tamil '\n",
            " 'Nadu, 635117, India')\n",
            "('TVSundram Iyangar, NH44;NH48, Shoolagiri, Hosur, Krishnagiri District, Tamil '\n",
            " 'Nadu, 635117, India')\n",
            "('TVSundram Iyangar, NH44;NH48, Shoolagiri, Hosur, Krishnagiri District, Tamil '\n",
            " 'Nadu, 635117, India')\n",
            "('TVSundram Iyangar, NH44;NH48, Shoolagiri, Hosur, Krishnagiri District, Tamil '\n",
            " 'Nadu, 635117, India')\n",
            "('TVSundram Iyangar, NH44;NH48, Shoolagiri, Hosur, Krishnagiri District, Tamil '\n",
            " 'Nadu, 635117, India')\n",
            "('TVSundram Iyangar, NH44;NH48, Shoolagiri, Hosur, Krishnagiri District, Tamil '\n",
            " 'Nadu, 635117, India')\n",
            "('TVSundram Iyangar, NH44;NH48, Shoolagiri, Hosur, Krishnagiri District, Tamil '\n",
            " 'Nadu, 635117, India')\n",
            "('TVSundram Iyangar, NH44;NH48, Shoolagiri, Hosur, Krishnagiri District, Tamil '\n",
            " 'Nadu, 635117, India')\n",
            "('TVSundram Iyangar, NH44;NH48, Shoolagiri, Hosur, Krishnagiri District, Tamil '\n",
            " 'Nadu, 635117, India')\n",
            "('TVSundram Iyangar, NH44;NH48, Shoolagiri, Hosur, Krishnagiri District, Tamil '\n",
            " 'Nadu, 635117, India')\n",
            "('TVSundram Iyangar, NH44;NH48, Shoolagiri, Hosur, Krishnagiri District, Tamil '\n",
            " 'Nadu, 635117, India')\n",
            "('TVSundram Iyangar, NH44;NH48, Shoolagiri, Hosur, Krishnagiri District, Tamil '\n",
            " 'Nadu, 635117, India')\n",
            "('TVSundram Iyangar, NH44;NH48, Shoolagiri, Hosur, Krishnagiri District, Tamil '\n",
            " 'Nadu, 635117, India')\n",
            "('TVSundram Iyangar, NH44;NH48, Shoolagiri, Hosur, Krishnagiri District, Tamil '\n",
            " 'Nadu, 635117, India')\n",
            "('TVSundram Iyangar, NH44;NH48, Shoolagiri, Hosur, Krishnagiri District, Tamil '\n",
            " 'Nadu, 635117, India')\n",
            "('TVSundram Iyangar, NH44;NH48, Shoolagiri, Hosur, Krishnagiri District, Tamil '\n",
            " 'Nadu, 635117, India')\n",
            "('TVSundram Iyangar, NH44;NH48, Shoolagiri, Hosur, Krishnagiri District, Tamil '\n",
            " 'Nadu, 635117, India')\n",
            "('TVSundram Iyangar, NH44;NH48, Shoolagiri, Hosur, Krishnagiri District, Tamil '\n",
            " 'Nadu, 635117, India')\n",
            "('TVSundram Iyangar, NH44;NH48, Shoolagiri, Hosur, Krishnagiri District, Tamil '\n",
            " 'Nadu, 635117, India')\n",
            "'Hosur, Krishnagiri District, Tamil Nadu, 635109, India'\n",
            "'Hosur, Krishnagiri District, Tamil Nadu, 635109, India'\n",
            "'Hosur, Krishnagiri District, Tamil Nadu, 635109, India'\n",
            "'Hosur, Krishnagiri District, Tamil Nadu, 635109, India'\n",
            "'Hosur, Krishnagiri District, Tamil Nadu, 635109, India'\n",
            "'Hosur, Krishnagiri District, Tamil Nadu, 635109, India'\n",
            "'Hosur, Krishnagiri District, Tamil Nadu, 635109, India'\n",
            "'Hosur, Krishnagiri District, Tamil Nadu, 635109, India'\n",
            "'Hosur, Krishnagiri District, Tamil Nadu, 635109, India'\n",
            "'Hosur, Krishnagiri District, Tamil Nadu, 635109, India'\n",
            "'Hosur, Krishnagiri District, Tamil Nadu, 635109, India'\n",
            "'Hosur, Krishnagiri District, Tamil Nadu, 635109, India'\n",
            "'Hosur, Krishnagiri District, Tamil Nadu, 635109, India'\n",
            "'Hosur, Krishnagiri District, Tamil Nadu, 635109, India'\n",
            "'Hosur, Krishnagiri District, Tamil Nadu, 635109, India'\n",
            "'Hosur, Krishnagiri District, Tamil Nadu, 635109, India'\n",
            "'Hosur, Krishnagiri District, Tamil Nadu, 635109, India'\n",
            "'Hosur, Krishnagiri District, Tamil Nadu, 635109, India'\n",
            "'Hosur, Krishnagiri District, Tamil Nadu, 635109, India'\n",
            "'Hosur, Krishnagiri District, Tamil Nadu, 635109, India'\n",
            "'Hosur, Krishnagiri District, Tamil Nadu, 635109, India'\n",
            "'Hosur, Krishnagiri District, Tamil Nadu, 635109, India'\n",
            "'Hosur, Krishnagiri District, Tamil Nadu, 635109, India'\n",
            "'Hosur, Krishnagiri District, Tamil Nadu, 635109, India'\n",
            "'Hosur, Krishnagiri District, Tamil Nadu, 635109, India'\n",
            "'Hosur, Krishnagiri District, Tamil Nadu, 635109, India'\n",
            "'Hosur, Krishnagiri District, Tamil Nadu, 635109, India'\n",
            "'Hosur, Krishnagiri District, Tamil Nadu, 635109, India'\n",
            "'Hosur, Krishnagiri District, Tamil Nadu, 635109, India'\n",
            "'Hosur, Krishnagiri District, Tamil Nadu, 635109, India'\n",
            "'Hosur, Krishnagiri District, Tamil Nadu, 635109, India'\n",
            "'Hosur, Krishnagiri District, Tamil Nadu, 635109, India'\n",
            "'Hosur, Krishnagiri District, Tamil Nadu, 635109, India'\n",
            "'Hosur, Krishnagiri District, Tamil Nadu, 635109, India'\n",
            "'Hosur, Krishnagiri District, Tamil Nadu, 635109, India'\n",
            "'Hosur, Krishnagiri District, Tamil Nadu, 635109, India'\n",
            "'Hosur, Krishnagiri District, Tamil Nadu, 635109, India'\n",
            "'Hosur, Krishnagiri District, Tamil Nadu, 635109, India'\n",
            "'Hosur, Krishnagiri District, Tamil Nadu, 635109, India'\n",
            "'Hosur, Krishnagiri District, Tamil Nadu, 635109, India'\n",
            "'Hosur, Krishnagiri District, Tamil Nadu, 635109, India'\n",
            "'Hosur, Krishnagiri District, Tamil Nadu, 635109, India'\n",
            "'Hosur, Krishnagiri District, Tamil Nadu, 635109, India'\n",
            "'Hosur, Krishnagiri District, Tamil Nadu, 635109, India'\n",
            "'Hosur, Krishnagiri District, Tamil Nadu, 635109, India'\n",
            "'Hosur, Krishnagiri District, Tamil Nadu, 635109, India'\n",
            "'Hosur, Krishnagiri District, Tamil Nadu, 635109, India'\n",
            "'Hosur, Krishnagiri District, Tamil Nadu, 635109, India'\n"
          ],
          "name": "stdout"
        },
        {
          "output_type": "error",
          "ename": "KeyboardInterrupt",
          "evalue": "ignored",
          "traceback": [
            "\u001b[0;31m---------------------------------------------------------------------------\u001b[0m",
            "\u001b[0;31mKeyboardInterrupt\u001b[0m                         Traceback (most recent call last)",
            "\u001b[0;32m<ipython-input-24-329038004f0a>\u001b[0m in \u001b[0;36m<module>\u001b[0;34m()\u001b[0m\n\u001b[1;32m     24\u001b[0m   \u001b[0;31m#print(float(longitude1[i]))\u001b[0m\u001b[0;34m\u001b[0m\u001b[0;34m\u001b[0m\u001b[0;34m\u001b[0m\u001b[0m\n\u001b[1;32m     25\u001b[0m   \u001b[0;31m#tf.timezone_at(lng=longitude, lat=latitude) # returns 'Europe/Berlin'\u001b[0m\u001b[0;34m\u001b[0m\u001b[0;34m\u001b[0m\u001b[0;34m\u001b[0m\u001b[0m\n\u001b[0;32m---> 26\u001b[0;31m   \u001b[0maddress\u001b[0m \u001b[0;34m=\u001b[0m \u001b[0mget_address_by_location\u001b[0m\u001b[0;34m(\u001b[0m\u001b[0mlatitude\u001b[0m\u001b[0;34m,\u001b[0m \u001b[0mlongitude\u001b[0m\u001b[0;34m)\u001b[0m\u001b[0;34m\u001b[0m\u001b[0;34m\u001b[0m\u001b[0m\n\u001b[0m\u001b[1;32m     27\u001b[0m   \u001b[0;31m# print all returned data\u001b[0m\u001b[0;34m\u001b[0m\u001b[0;34m\u001b[0m\u001b[0;34m\u001b[0m\u001b[0m\n\u001b[1;32m     28\u001b[0m   \u001b[0;31m#pprint(address)\u001b[0m\u001b[0;34m\u001b[0m\u001b[0;34m\u001b[0m\u001b[0;34m\u001b[0m\u001b[0m\n",
            "\u001b[0;32m<ipython-input-20-28143dbd3c86>\u001b[0m in \u001b[0;36mget_address_by_location\u001b[0;34m(latitude, longitude, language)\u001b[0m\n\u001b[1;32m      5\u001b[0m     \u001b[0mcoordinates\u001b[0m \u001b[0;34m=\u001b[0m \u001b[0;34mf\"{latitude}, {longitude}\"\u001b[0m\u001b[0;34m\u001b[0m\u001b[0;34m\u001b[0m\u001b[0m\n\u001b[1;32m      6\u001b[0m     \u001b[0;31m# sleep for a second to respect Usage Policy\u001b[0m\u001b[0;34m\u001b[0m\u001b[0;34m\u001b[0m\u001b[0;34m\u001b[0m\u001b[0m\n\u001b[0;32m----> 7\u001b[0;31m     \u001b[0mtime\u001b[0m\u001b[0;34m.\u001b[0m\u001b[0msleep\u001b[0m\u001b[0;34m(\u001b[0m\u001b[0;36m1\u001b[0m\u001b[0;34m)\u001b[0m\u001b[0;34m\u001b[0m\u001b[0;34m\u001b[0m\u001b[0m\n\u001b[0m\u001b[1;32m      8\u001b[0m     \u001b[0;32mtry\u001b[0m\u001b[0;34m:\u001b[0m\u001b[0;34m\u001b[0m\u001b[0;34m\u001b[0m\u001b[0m\n\u001b[1;32m      9\u001b[0m         \u001b[0;32mreturn\u001b[0m \u001b[0mapp\u001b[0m\u001b[0;34m.\u001b[0m\u001b[0mreverse\u001b[0m\u001b[0;34m(\u001b[0m\u001b[0mcoordinates\u001b[0m\u001b[0;34m,\u001b[0m \u001b[0mlanguage\u001b[0m\u001b[0;34m=\u001b[0m\u001b[0mlanguage\u001b[0m\u001b[0;34m)\u001b[0m\u001b[0;34m.\u001b[0m\u001b[0mraw\u001b[0m\u001b[0;34m\u001b[0m\u001b[0;34m\u001b[0m\u001b[0m\n",
            "\u001b[0;31mKeyboardInterrupt\u001b[0m: "
          ]
        }
      ]
    },
    {
      "cell_type": "code",
      "metadata": {
        "id": "n_MZ4Sun9MYf"
      },
      "source": [
        ""
      ],
      "execution_count": null,
      "outputs": []
    },
    {
      "cell_type": "markdown",
      "metadata": {
        "id": "B4hYJj6K6Kht"
      },
      "source": [
        "Download a pre-trained mode"
      ]
    },
    {
      "cell_type": "markdown",
      "metadata": {
        "id": "qVSCEX3z6TLh"
      },
      "source": [
        "Synthesis"
      ]
    },
    {
      "cell_type": "markdown",
      "metadata": {
        "id": "x-znPBoo9zqW"
      },
      "source": [
        "Choose your favorite sentences\r\n",
        "\r\n"
      ]
    },
    {
      "cell_type": "code",
      "metadata": {
        "id": "Lr-P7vTD-dCi"
      },
      "source": [
        "import librosa.display\r\n",
        "import IPython\r\n",
        "from IPython.display import Audio\r\n",
        "import numpy as np\r\n",
        "import torch\r\n",
        "import  json"
      ],
      "execution_count": 59,
      "outputs": []
    },
    {
      "cell_type": "code",
      "metadata": {
        "colab": {
          "base_uri": "https://localhost:8080/"
        },
        "id": "qqB0cDsQBRKy",
        "outputId": "3b350a65-afad-4634-e3d9-1530634c6aab"
      },
      "source": [
        "pip install gtts\r\n"
      ],
      "execution_count": 82,
      "outputs": [
        {
          "output_type": "stream",
          "text": [
            "Requirement already satisfied: gtts in /usr/local/lib/python3.6/dist-packages (2.2.1)\n",
            "Requirement already satisfied: six in /usr/local/lib/python3.6/dist-packages (from gtts) (1.15.0)\n",
            "Requirement already satisfied: requests in /usr/local/lib/python3.6/dist-packages (from gtts) (2.23.0)\n",
            "Requirement already satisfied: click in /usr/local/lib/python3.6/dist-packages (from gtts) (7.1.2)\n",
            "Requirement already satisfied: urllib3!=1.25.0,!=1.25.1,<1.26,>=1.21.1 in /usr/local/lib/python3.6/dist-packages (from requests->gtts) (1.24.3)\n",
            "Requirement already satisfied: certifi>=2017.4.17 in /usr/local/lib/python3.6/dist-packages (from requests->gtts) (2020.12.5)\n",
            "Requirement already satisfied: idna<3,>=2.5 in /usr/local/lib/python3.6/dist-packages (from requests->gtts) (2.10)\n",
            "Requirement already satisfied: chardet<4,>=3.0.2 in /usr/local/lib/python3.6/dist-packages (from requests->gtts) (3.0.4)\n"
          ],
          "name": "stdout"
        }
      ]
    },
    {
      "cell_type": "code",
      "metadata": {
        "id": "tGZt6sG6BOD6"
      },
      "source": [
        "from gtts import gTTS \r\n",
        "import os"
      ],
      "execution_count": 68,
      "outputs": []
    },
    {
      "cell_type": "code",
      "metadata": {
        "id": "GQUam3lhCLut"
      },
      "source": [
        "text = 'Global warming is the long-term rise in the average temperature of the Earth’s climate system'"
      ],
      "execution_count": 70,
      "outputs": []
    },
    {
      "cell_type": "code",
      "metadata": {
        "id": "txmsCkbUCUtr"
      },
      "source": [
        "language = 'en'"
      ],
      "execution_count": 72,
      "outputs": []
    },
    {
      "cell_type": "code",
      "metadata": {
        "id": "KvUkRyrnCbLf"
      },
      "source": [
        "speech = gTTS(text = text, lang = language, slow = False)"
      ],
      "execution_count": 73,
      "outputs": []
    },
    {
      "cell_type": "code",
      "metadata": {
        "id": "kr42OcuNCeYU"
      },
      "source": [
        "speech.save('text.mp4')"
      ],
      "execution_count": 78,
      "outputs": []
    },
    {
      "cell_type": "code",
      "metadata": {
        "colab": {
          "base_uri": "https://localhost:8080/"
        },
        "id": "shJDuYNSCn2r",
        "outputId": "0a9490e6-3e51-472f-c703-1abc7689a750"
      },
      "source": [
        "os.system('start text.mp4')"
      ],
      "execution_count": 79,
      "outputs": [
        {
          "output_type": "execute_result",
          "data": {
            "text/plain": [
              "32512"
            ]
          },
          "metadata": {
            "tags": []
          },
          "execution_count": 79
        }
      ]
    },
    {
      "cell_type": "code",
      "metadata": {
        "colab": {
          "base_uri": "https://localhost:8080/",
          "height": 75
        },
        "id": "TbE8pn5XDRCE",
        "outputId": "b1ae4208-a66c-4248-bbf2-15cb907acfea"
      },
      "source": [
        "\r\n",
        "from gtts import gTTS\r\n",
        "import pyglet\r\n",
        "\r\n",
        "from tempfile import TemporaryFile\r\n",
        "#tts = gTTS(text='Hello', lang='en')\r\n",
        "tts = gTTS(text=displayname, lang='en')\r\n",
        "f = TemporaryFile()\r\n",
        "tts.write_to_fp(f)\r\n",
        "# Play f\r\n",
        "#f.close()\r\n",
        "f.seek(0)\r\n",
        "Audio(f.read(), autoplay=True)\r\n",
        "# time.sleep(5) # doesn't work to avoid the file to close to fast...\r\n",
        "# f.close() # ... this has to be in the next cell otherwise the sound is not played\r\n"
      ],
      "execution_count": 94,
      "outputs": [
        {
          "output_type": "execute_result",
          "data": {
            "text/html": [
              "\n",
              "                <audio controls=\"controls\" autoplay=\"autoplay\">\n",
              "                    <source src=\"data:audio/wav;base64,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\" type=\"audio/wav\" />\n",
              "                    Your browser does not support the audio element.\n",
              "                </audio>\n",
              "              "
            ],
            "text/plain": [
              "<IPython.lib.display.Audio object>"
            ]
          },
          "metadata": {
            "tags": []
          },
          "execution_count": 94
        }
      ]
    }
  ]
}